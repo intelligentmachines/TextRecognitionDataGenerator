{
 "cells": [
  {
   "cell_type": "markdown",
   "metadata": {},
   "source": [
    "Specify the input and output directories here"
   ]
  },
  {
   "cell_type": "code",
   "execution_count": 25,
   "metadata": {},
   "outputs": [],
   "source": [
    "image_dir  = '/home/arowa/work/porichoy/trdg-output-images/bangla_dataset_v1.1/augmented/images'\n",
    "output_dir = '/home/arowa/work/porichoy/trdg-output-images/bangla_dataset_v1.1/augmented/aug_images'"
   ]
  },
  {
   "cell_type": "markdown",
   "metadata": {},
   "source": [
    "Necessary Imports"
   ]
  },
  {
   "cell_type": "code",
   "execution_count": 26,
   "metadata": {},
   "outputs": [],
   "source": [
    "import os\n",
    "import random as rnd\n",
    "import cv2\n",
    "import numpy as np\n",
    "from PIL import ImageEnhance\n",
    "from PIL import Image\n",
    "from tqdm import tqdm"
   ]
  },
  {
   "cell_type": "markdown",
   "metadata": {},
   "source": [
    "# Augmentation Pipeline"
   ]
  },
  {
   "cell_type": "markdown",
   "metadata": {},
   "source": [
    "### Function for Adding Noise to image"
   ]
  },
  {
   "cell_type": "code",
   "execution_count": 28,
   "metadata": {},
   "outputs": [],
   "source": [
    "def noisy(image):\n",
    "    '''Adds extra noise to image\n",
    "    image (nd array) : input image\n",
    "    '''\n",
    "    types = ['gauss', 'poisson', 's&p']\n",
    "    noise_type = rnd.choice(types)\n",
    "    \n",
    "    # adds gaussian noise\n",
    "    if noise_type == \"gauss\":\n",
    "        mean = 0\n",
    "        var = 0.1\n",
    "        sigma = var**0.5\n",
    "        gauss = np.random.normal(mean,sigma,image.shape)\n",
    "        gauss = gauss.reshape(image.shape[0],image.shape[1]).astype('uint8')\n",
    "        noisy = cv2.add(image,gauss)\n",
    "        return noisy\n",
    "    \n",
    "    # adds salt and pepper noise\n",
    "    elif noise_type == \"s&p\":\n",
    "        noisy = image.copy()\n",
    "        prob = 0.1\n",
    "        black = 123\n",
    "        white = 240            \n",
    "        probs = np.random.random(noisy.shape[:2])\n",
    "        noisy[probs < (prob / 2)] = black\n",
    "        noisy[probs > 1 - (prob / 2)] = white\n",
    "        return noisy\n",
    "\n",
    "    # adds poisson noise\n",
    "    elif noise_type == 'poisson':\n",
    "        vals = len(np.unique(image))\n",
    "        vals = 4 ** np.ceil(np.log2(vals))\n",
    "        noisy = np.uint8(np.random.poisson(image * vals) / float(vals))\n",
    "        return noisy"
   ]
  },
  {
   "cell_type": "markdown",
   "metadata": {},
   "source": [
    "### Function for adding gradient effect to image"
   ]
  },
  {
   "cell_type": "code",
   "execution_count": 29,
   "metadata": {},
   "outputs": [],
   "source": [
    "def gradient(image):\n",
    "    '''Applies gradient in random direction\n",
    "    image (nd array): input image\n",
    "    '''\n",
    "    # direction is specified here\n",
    "    directions = [1, 2]\n",
    "    direction = rnd.choice(directions)\n",
    "\n",
    "    # gradient colour thresholds are specified here\n",
    "    threshold1 = rnd.uniform(0.3, 1)\n",
    "    threshold2 = rnd.uniform(0.3, 1)\n",
    "\n",
    "    if direction == 1:\n",
    "        mask = np.tile(np.linspace(threshold1, threshold2, image.shape[1]), (image.shape[0], 1))\n",
    "    elif direction == 2:\n",
    "        mask = np.tile(np.linspace(threshold1, threshold2, image.shape[0]), (image.shape[1], 1)).T\n",
    "    gradient_image = np.uint8(image * mask)\n",
    "    return gradient_image"
   ]
  },
  {
   "cell_type": "markdown",
   "metadata": {},
   "source": [
    "### Function for Controlling brightness of image"
   ]
  },
  {
   "cell_type": "code",
   "execution_count": 30,
   "metadata": {},
   "outputs": [],
   "source": [
    "def add_brightness(image):\n",
    "    '''\n",
    "    sets the brightness of the image to the desired value\n",
    "    '''\n",
    "    # image brightness enhancer\n",
    "    value = rnd.uniform(0.4, 1.4)\n",
    "    enhancer = ImageEnhance.Brightness(Image.fromarray(image))\n",
    "    im_output = enhancer.enhance(value)\n",
    "    return im_output"
   ]
  },
  {
   "cell_type": "markdown",
   "metadata": {},
   "source": [
    "### Function to randomly crop image from sides"
   ]
  },
  {
   "cell_type": "code",
   "execution_count": 31,
   "metadata": {},
   "outputs": [],
   "source": [
    "def get_random_crop(image):\n",
    "    '''\n",
    "    Randomly crops a portion of the image\n",
    "    '''\n",
    "    width = image.shape[1]\n",
    "    height = image.shape[0]\n",
    "    \n",
    "    # if image is already small no need to crop it more\n",
    "    if width <= 16 or height <= 32:\n",
    "        return image\n",
    "\n",
    "    crop_height_up = rnd.randint(0,8)\n",
    "    crop_height_down = rnd.randint(0,8)\n",
    "    crop_width_left = rnd.randint(0,7)\n",
    "    crop_width_right = rnd.randint(0,7)\n",
    " \n",
    "    crop = image[crop_height_up:height-crop_height_down,crop_width_left:width-crop_width_right]\n",
    "    return crop"
   ]
  },
  {
   "cell_type": "markdown",
   "metadata": {},
   "source": [
    "### Main Function"
   ]
  },
  {
   "cell_type": "code",
   "execution_count": 32,
   "metadata": {},
   "outputs": [],
   "source": [
    "def main(in_path, out_path):\n",
    "\n",
    "    # augmentation choices\n",
    "    choices  = ['noisy', 'gradient', 'brightness']\n",
    "\n",
    "    for filename in tqdm(os.listdir(in_path)):\n",
    "\n",
    "        # we are using only once augmentation choice because multiple augmentations degrade the image too much\n",
    "        # different augmentation techniques are given different percentage\n",
    "        choice = rnd.choices(choices, weights=(85, 70, 50), k=1)\n",
    "\n",
    "        filepath = os.path.join(in_path, filename)\n",
    "        output_path = os.path.join(out_path, filename)\n",
    "\n",
    "        image = cv2.imread(filepath,0)\n",
    "\n",
    "        # we apply random crop augmentation to all images (no choice here)\n",
    "        output_image = get_random_crop(image)\n",
    "        # output_path = out_path + '/' +  filename.split('.')[0] + \"_crop.jpg\"\n",
    "        # Image.fromarray(output_image).save(output_path)\n",
    "\n",
    "        # augmentation according to choice\n",
    "        if choice[0] == 'noisy':\n",
    "            # output_path = out_path + '/' +  filename.split('.')[0] + \"_noisy.jpg\"\n",
    "            output_image = noisy(output_image)\n",
    "            Image.fromarray(output_image).save(output_path)\n",
    "\n",
    "        elif choice[0] == 'gradient':\n",
    "            # output_path = out_path + '/' +  filename.split('.')[0] + \"_gradient.jpg\"\n",
    "            output_image = gradient(output_image)\n",
    "            Image.fromarray(output_image).save(output_path)\n",
    "\n",
    "        elif choice[0] == 'brightness':\n",
    "            # output_path = out_path + '/' +  filename.split('.')[0] + \"_brightness.jpg\"\n",
    "            output_image = add_brightness(output_image)\n",
    "            output_image.save(output_path)\n",
    "\n",
    "    return"
   ]
  },
  {
   "cell_type": "markdown",
   "metadata": {},
   "source": [
    "### Driver call"
   ]
  },
  {
   "cell_type": "code",
   "execution_count": 33,
   "metadata": {},
   "outputs": [
    {
     "name": "stderr",
     "output_type": "stream",
     "text": [
      "100%|██████████| 100000/100000 [01:22<00:00, 1210.94it/s]\n"
     ]
    }
   ],
   "source": [
    "main(image_dir, output_dir)"
   ]
  }
 ],
 "metadata": {
  "interpreter": {
   "hash": "c3ab41852ad4d8d3c6ff785e89009475f59672345fdefb247c70ffd9443fcb3e"
  },
  "kernelspec": {
   "display_name": "Python 3.8.8 64-bit ('base': conda)",
   "language": "python",
   "name": "python3"
  },
  "language_info": {
   "codemirror_mode": {
    "name": "ipython",
    "version": 3
   },
   "file_extension": ".py",
   "mimetype": "text/x-python",
   "name": "python",
   "nbconvert_exporter": "python",
   "pygments_lexer": "ipython3",
   "version": "3.8.8"
  },
  "orig_nbformat": 4
 },
 "nbformat": 4,
 "nbformat_minor": 2
}
