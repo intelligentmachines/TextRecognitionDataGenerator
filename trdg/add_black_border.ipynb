{
 "cells": [
  {
   "cell_type": "code",
   "execution_count": 22,
   "metadata": {},
   "outputs": [],
   "source": [
    "import os\n",
    "import cv2\n",
    "from PIL import Image"
   ]
  },
  {
   "cell_type": "code",
   "execution_count": 23,
   "metadata": {},
   "outputs": [],
   "source": [
    "img_dir = '/home/arowa/work/porichoy/trdg-output-images/bangla_dataset_v4/long'"
   ]
  },
  {
   "cell_type": "code",
   "execution_count": 24,
   "metadata": {},
   "outputs": [],
   "source": [
    "for filename in os.listdir(img_dir):\n",
    "    filepath = os.path.join(img_dir, filename)\n",
    "    image = cv2.imread(filepath, 0)\n",
    "    width, height = image.shape[1], image.shape[0]\n",
    "    border_height = int(0.07 * height)\n",
    "    image[0:border_height,0:width] = 0\n",
    "    Image.fromarray(image).save(filepath)"
   ]
  }
 ],
 "metadata": {
  "interpreter": {
   "hash": "c3ab41852ad4d8d3c6ff785e89009475f59672345fdefb247c70ffd9443fcb3e"
  },
  "kernelspec": {
   "display_name": "Python 3.8.8 64-bit ('base': conda)",
   "language": "python",
   "name": "python3"
  },
  "language_info": {
   "codemirror_mode": {
    "name": "ipython",
    "version": 3
   },
   "file_extension": ".py",
   "mimetype": "text/x-python",
   "name": "python",
   "nbconvert_exporter": "python",
   "pygments_lexer": "ipython3",
   "version": "3.8.8"
  },
  "orig_nbformat": 4
 },
 "nbformat": 4,
 "nbformat_minor": 2
}
