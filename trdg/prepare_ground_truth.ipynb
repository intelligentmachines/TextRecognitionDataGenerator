{
 "cells": [
  {
   "cell_type": "markdown",
   "metadata": {},
   "source": [
    "# Generate Separate Ground Truth Files for every image"
   ]
  },
  {
   "cell_type": "code",
   "execution_count": 1,
   "metadata": {},
   "outputs": [],
   "source": [
    "import os"
   ]
  },
  {
   "cell_type": "markdown",
   "metadata": {},
   "source": [
    "### Move labels_txt files for every batch from original directory"
   ]
  },
  {
   "cell_type": "markdown",
   "metadata": {},
   "source": [
    "#### Specify path to the labels.txt files are for respective batches"
   ]
  },
  {
   "cell_type": "code",
   "execution_count": 18,
   "metadata": {},
   "outputs": [],
   "source": [
    "common_labels_file = '/home/arowa/work/porichoy/trdg-output-images/english_dataset_v3/augmented/common_gt/common.txt'\n",
    "num_labels_file    = '/home/arowa/work/porichoy/trdg-output-images/english_dataset_v3/augmented/nums_gt/nums.txt'\n",
    "rs_labels_file     = '/home/arowa/work/porichoy/trdg-output-images/english_dataset_v3/augmented/random_gt/random.txt'\n",
    "names_labels_file  = '/home/arowa/work/porichoy/trdg-output-images/english_dataset_v3/augmented/names_gt/names.txt'\n",
    "mrz_labels_file   = '/home/arowa/work/porichoy/trdg-output-images/english_dataset_v3/augmented/mrz_gt/mrz.txt'\n"
   ]
  },
  {
   "cell_type": "markdown",
   "metadata": {},
   "source": [
    "#### Specify the path to ground truth directory"
   ]
  },
  {
   "cell_type": "code",
   "execution_count": 19,
   "metadata": {},
   "outputs": [],
   "source": [
    "gt_dir = '/home/arowa/work/porichoy/trdg-output-images/english_dataset_v3/augmented/gt_txt'"
   ]
  },
  {
   "cell_type": "markdown",
   "metadata": {},
   "source": [
    "#### Rename and Move ground files"
   ]
  },
  {
   "cell_type": "code",
   "execution_count": 27,
   "metadata": {},
   "outputs": [],
   "source": [
    "src = common_labels_file\n",
    "dst = gt_dir + '/' + 'bangla_common_words_gt.txt'\n",
    "\n",
    "os.rename(src, dst)"
   ]
  },
  {
   "cell_type": "code",
   "execution_count": 28,
   "metadata": {},
   "outputs": [],
   "source": [
    "src = num_labels_file\n",
    "dst = gt_dir + '/' + 'bangla_nums_gt.txt'\n",
    "\n",
    "os.rename(src, dst)"
   ]
  },
  {
   "cell_type": "code",
   "execution_count": 29,
   "metadata": {},
   "outputs": [],
   "source": [
    "src = rs_labels_file\n",
    "dst = gt_dir + '/' + 'random_seq_gt.txt'\n",
    "\n",
    "os.rename(src, dst)"
   ]
  },
  {
   "cell_type": "code",
   "execution_count": 30,
   "metadata": {},
   "outputs": [],
   "source": [
    "src = names_labels_file\n",
    "dst = gt_dir + '/' + 'bangla_names_gt.txt'\n",
    "\n",
    "os.rename(src, dst)"
   ]
  },
  {
   "cell_type": "code",
   "execution_count": null,
   "metadata": {},
   "outputs": [],
   "source": [
    "src = long_labels_file\n",
    "dst = '/home/arowa/work/porichoy/trdg-output-images/bangla_dataset_v4/long_gt.txt'\n",
    "\n",
    "os.rename(src, dst)"
   ]
  },
  {
   "cell_type": "markdown",
   "metadata": {},
   "source": [
    "### Create and rename separate ground truth files for every image in every batch"
   ]
  },
  {
   "cell_type": "markdown",
   "metadata": {},
   "source": [
    "#### Specify path to txt file containing all the ground truths together"
   ]
  },
  {
   "cell_type": "code",
   "execution_count": 27,
   "metadata": {},
   "outputs": [],
   "source": [
    "common_labels_file = '/home/arowa/work/porichoy/trdg-output-images/english_dataset_v3/augmented/gt_txt/common.txt'\n",
    "num_labels_file    = '/home/arowa/work/porichoy/trdg-output-images/english_dataset_v3/augmented/gt_txt/nums.txt'\n",
    "rs_labels_file     = '/home/arowa/work/porichoy/trdg-output-images/english_dataset_v3/augmented/gt_txt/random.txt'\n",
    "names_labels_file  = '/home/arowa/work/porichoy/trdg-output-images/english_dataset_v3/augmented/gt_txt/names.txt'\n",
    "mrz_labels_file    = '/home/arowa/work/porichoy/trdg-output-images/english_dataset_v3/augmented/gt_txt/mrz.txt'\n"
   ]
  },
  {
   "cell_type": "markdown",
   "metadata": {},
   "source": [
    "#### Specify the directories where you want to save the image-wise ground truths"
   ]
  },
  {
   "cell_type": "code",
   "execution_count": 21,
   "metadata": {},
   "outputs": [],
   "source": [
    "common_labels_dir = '/home/arowa/work/porichoy/trdg-output-images/english_dataset_v3/augmented/common_gt/'\n",
    "num_labels_dir    = '/home/arowa/work/porichoy/trdg-output-images/english_dataset_v3/augmented/nums_gt/'\n",
    "rs_labels_dir     = '/home/arowa/work/porichoy/trdg-output-images/english_dataset_v3/augmented/random_gt/'\n",
    "names_labels_dir  = '/home/arowa/work/porichoy/trdg-output-images/english_dataset_v3/augmented/names_gt/'\n",
    "mrz_labels_dir    = '/home/arowa/work/porichoy/trdg-output-images/english_dataset_v3/augmented/mrz_gt/'"
   ]
  },
  {
   "cell_type": "markdown",
   "metadata": {},
   "source": [
    "#### Create the image-wise ground truths"
   ]
  },
  {
   "cell_type": "code",
   "execution_count": 22,
   "metadata": {},
   "outputs": [],
   "source": [
    "with open(common_labels_file, 'r') as f:\n",
    "    lines = f.readlines()\n",
    "for line in lines:\n",
    "    image_name = line.split(\" \")[0]\n",
    "    ground_truth = line.split(\" \", 1)[-1]\n",
    "    ground_truth = ground_truth.strip()\n",
    "    gt_file_name = image_name.split(\".\")[0] + '_common.txt'\n",
    "    outpath = common_labels_dir + gt_file_name\n",
    "    with open(outpath, 'a+') as gt_f:\n",
    "        gt_f.write(ground_truth)"
   ]
  },
  {
   "cell_type": "code",
   "execution_count": 23,
   "metadata": {},
   "outputs": [],
   "source": [
    "with open(num_labels_file, 'r') as f:\n",
    "    lines = f.readlines()\n",
    "for line in lines:\n",
    "    image_name = line.split(\" \")[0]\n",
    "    ground_truth = line.split(\" \",1)[-1]\n",
    "    ground_truth = ground_truth.strip()\n",
    "    gt_file_name = image_name.split(\".\")[0] + '_nums.txt'\n",
    "    outpath = num_labels_dir + gt_file_name\n",
    "    with open(outpath, 'a+') as gt_f:\n",
    "        gt_f.write(ground_truth)"
   ]
  },
  {
   "cell_type": "code",
   "execution_count": 24,
   "metadata": {},
   "outputs": [],
   "source": [
    "with open(rs_labels_file, 'r') as f:\n",
    "    lines = f.readlines()\n",
    "for line in lines:\n",
    "    image_name = line.split(\" \")[0]\n",
    "    ground_truth = line.split(\" \",1)[-1]\n",
    "    ground_truth = ground_truth.strip()\n",
    "    gt_file_name = image_name.split(\".\")[0] + '_rs.txt'\n",
    "    outpath = rs_labels_dir + gt_file_name\n",
    "    with open(outpath, 'a+') as gt_f:\n",
    "        gt_f.write(ground_truth)"
   ]
  },
  {
   "cell_type": "code",
   "execution_count": 25,
   "metadata": {},
   "outputs": [],
   "source": [
    "with open(names_labels_file, 'r') as f:\n",
    "    lines = f.readlines()\n",
    "for line in lines:\n",
    "    image_name = line.split(\" \")[0]\n",
    "    ground_truth = line.split(\" \",1)[-1]\n",
    "    ground_truth = ground_truth.strip()\n",
    "    gt_file_name = image_name.split(\".\")[0] + '_names.txt'\n",
    "    outpath = names_labels_dir + gt_file_name\n",
    "    with open(outpath, 'a+') as gt_f:\n",
    "        gt_f.write(ground_truth)"
   ]
  },
  {
   "cell_type": "code",
   "execution_count": 28,
   "metadata": {},
   "outputs": [],
   "source": [
    "with open(mrz_labels_file, 'r') as f:\n",
    "    lines = f.readlines()\n",
    "for line in lines:\n",
    "    image_name = line.split(\" \")[0]\n",
    "    ground_truth = line.split(\" \",1)[-1]\n",
    "    ground_truth = ground_truth.strip()\n",
    "    gt_file_name = image_name.split(\".\")[0] + '_mrz.txt'\n",
    "    outpath = mrz_labels_dir + gt_file_name\n",
    "    with open(outpath, 'a+') as gt_f:\n",
    "        gt_f.write(ground_truth)"
   ]
  },
  {
   "cell_type": "markdown",
   "metadata": {},
   "source": [
    "Rename images of every batch"
   ]
  },
  {
   "cell_type": "code",
   "execution_count": 29,
   "metadata": {},
   "outputs": [],
   "source": [
    "common_img_dir = '/home/arowa/work/porichoy/trdg-output-images/english_dataset_v3/augmented/common/'\n",
    "num_img_dir    = '/home/arowa/work/porichoy/trdg-output-images/english_dataset_v3/augmented/nums/'\n",
    "name_img_dir   = '/home/arowa/work/porichoy/trdg-output-images/english_dataset_v3/augmented/names/'\n",
    "rs_img_dir     = '/home/arowa/work/porichoy/trdg-output-images/english_dataset_v3/augmented/random/'\n",
    "mrz_img_dir    = '/home/arowa/work/porichoy/trdg-output-images/english_dataset_v3/augmented/mrz/'"
   ]
  },
  {
   "cell_type": "code",
   "execution_count": 30,
   "metadata": {},
   "outputs": [],
   "source": [
    "for filename in os.listdir(common_img_dir):\n",
    "    src = common_img_dir + '/' + filename\n",
    "    dst = common_img_dir + '/' + filename.split('.jpg')[0] + '_common.jpg'\n",
    "\n",
    "    os.rename(src, dst)"
   ]
  },
  {
   "cell_type": "code",
   "execution_count": 31,
   "metadata": {},
   "outputs": [],
   "source": [
    "for filename in os.listdir(num_img_dir):\n",
    "    src = num_img_dir + '/' + filename\n",
    "    dst = num_img_dir + '/' + filename.split('.jpg')[0] + '_num.jpg'\n",
    "\n",
    "    os.rename(src, dst)"
   ]
  },
  {
   "cell_type": "code",
   "execution_count": 32,
   "metadata": {},
   "outputs": [],
   "source": [
    "for filename in os.listdir(name_img_dir):\n",
    "    src = name_img_dir + '/' + filename\n",
    "    dst = name_img_dir + '/' + filename.split('.jpg')[0] + '_names.jpg'\n",
    "\n",
    "    os.rename(src, dst)"
   ]
  },
  {
   "cell_type": "code",
   "execution_count": 33,
   "metadata": {},
   "outputs": [],
   "source": [
    "for filename in os.listdir(rs_img_dir):\n",
    "    src = rs_img_dir + '/' + filename\n",
    "    dst = rs_img_dir + '/' + filename.split('.jpg')[0] + '_rs.jpg'\n",
    "\n",
    "    os.rename(src, dst)"
   ]
  },
  {
   "cell_type": "code",
   "execution_count": 34,
   "metadata": {},
   "outputs": [],
   "source": [
    "for filename in os.listdir(mrz_img_dir):\n",
    "    src = mrz_img_dir + '/' + filename\n",
    "    dst = mrz_img_dir + '/' + filename.split('.jpg')[0] + '_mrz.jpg'\n",
    "\n",
    "    os.rename(src, dst)"
   ]
  },
  {
   "cell_type": "markdown",
   "metadata": {},
   "source": [
    "Run this cell only if you have moved images of all batches to a single folder \"images\" and all ground truths to \"labels\""
   ]
  },
  {
   "cell_type": "code",
   "execution_count": 39,
   "metadata": {},
   "outputs": [],
   "source": [
    "img_dir   = '/home/arowa/work/porichoy/trdg-output-images/english_dataset_v3/augmented/mrz'\n",
    "label_dir = '/home/arowa/work/porichoy/trdg-output-images/english_dataset_v3/augmented/mrz_gt'\n",
    "for filename in os.listdir(img_dir):\n",
    "    src = img_dir + '/' + filename\n",
    "    dst = img_dir + '/' + 'aug_' + filename\n",
    "\n",
    "    os.rename(src, dst)\n",
    "\n",
    "for filename in os.listdir(label_dir):\n",
    "    src = label_dir + '/' + filename\n",
    "    dst = label_dir + '/' + 'aug_' + filename\n",
    "\n",
    "    os.rename(src, dst)"
   ]
  }
 ],
 "metadata": {
  "interpreter": {
   "hash": "c3ab41852ad4d8d3c6ff785e89009475f59672345fdefb247c70ffd9443fcb3e"
  },
  "kernelspec": {
   "display_name": "Python 3.8.8 64-bit ('base': conda)",
   "language": "python",
   "name": "python3"
  },
  "language_info": {
   "codemirror_mode": {
    "name": "ipython",
    "version": 3
   },
   "file_extension": ".py",
   "mimetype": "text/x-python",
   "name": "python",
   "nbconvert_exporter": "python",
   "pygments_lexer": "ipython3",
   "version": "3.8.8"
  },
  "orig_nbformat": 4
 },
 "nbformat": 4,
 "nbformat_minor": 2
}
