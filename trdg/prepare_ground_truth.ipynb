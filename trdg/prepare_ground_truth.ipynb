{
 "cells": [
  {
   "cell_type": "markdown",
   "metadata": {},
   "source": [
    "Generate Separate Ground Truth Files for every image"
   ]
  },
  {
   "cell_type": "code",
   "execution_count": 28,
   "metadata": {},
   "outputs": [],
   "source": [
    "common_labels_file = '/home/arowa/work/porichoy/trdg-output-images/bangla_dataset_v1.1/augmented/gt_txt/bangla_common_words_gt.txt'\n",
    "num_labels_file    = '/home/arowa/work/porichoy/trdg-output-images/bangla_dataset_v1.1/augmented/gt_txt/bangla_nums_gt.txt'\n",
    "rs_labels_file     = '/home/arowa/work/porichoy/trdg-output-images/bangla_dataset_v1.1/augmented/gt_txt/random_seq_gt.txt'\n",
    "names_labels_file  = '/home/arowa/work/porichoy/trdg-output-images/bangla_dataset_v1.1/augmented/gt_txt/bangla_names_gt.txt'"
   ]
  },
  {
   "cell_type": "code",
   "execution_count": 29,
   "metadata": {},
   "outputs": [],
   "source": [
    "common_labels_dir = '/home/arowa/work/porichoy/trdg-output-images/bangla_dataset_v1.1/augmented/bangla_common_words_gt/'\n",
    "num_labels_dir    = '/home/arowa/work/porichoy/trdg-output-images/bangla_dataset_v1.1/augmented/bangla_nums_gt/'\n",
    "rs_labels_dir     = '/home/arowa/work/porichoy/trdg-output-images/bangla_dataset_v1.1/augmented/random_seq_gt/'\n",
    "names_labels_dir  = '/home/arowa/work/porichoy/trdg-output-images/bangla_dataset_v1.1/augmented/bangla_names_gt/'"
   ]
  },
  {
   "cell_type": "code",
   "execution_count": 30,
   "metadata": {},
   "outputs": [],
   "source": [
    "with open(common_labels_file, 'r') as f:\n",
    "    lines = f.readlines()\n",
    "for line in lines:\n",
    "    image_name = line.split(\" \")[0]\n",
    "    ground_truth = line.split(\" \", 1)[-1]\n",
    "    ground_truth = ground_truth.strip()\n",
    "    gt_file_name = image_name.split(\".\")[0] + '_common_bn.txt'\n",
    "    outpath = common_labels_dir + gt_file_name\n",
    "    with open(outpath, 'a+') as gt_f:\n",
    "        gt_f.write(ground_truth)"
   ]
  },
  {
   "cell_type": "code",
   "execution_count": 31,
   "metadata": {},
   "outputs": [],
   "source": [
    "with open(num_labels_file, 'r') as f:\n",
    "    lines = f.readlines()\n",
    "for line in lines:\n",
    "    image_name = line.split(\" \")[0]\n",
    "    ground_truth = line.split(\" \",1)[-1]\n",
    "    ground_truth = ground_truth.strip()\n",
    "    gt_file_name = image_name.split(\".\")[0] + '_nums.txt'\n",
    "    outpath = num_labels_dir + gt_file_name\n",
    "    with open(outpath, 'a+') as gt_f:\n",
    "        gt_f.write(ground_truth)"
   ]
  },
  {
   "cell_type": "code",
   "execution_count": 32,
   "metadata": {},
   "outputs": [],
   "source": [
    "with open(rs_labels_file, 'r') as f:\n",
    "    lines = f.readlines()\n",
    "for line in lines:\n",
    "    image_name = line.split(\" \")[0]\n",
    "    ground_truth = line.split(\" \",1)[-1]\n",
    "    ground_truth = ground_truth.strip()\n",
    "    gt_file_name = image_name.split(\".\")[0] + '_rs.txt'\n",
    "    outpath = rs_labels_dir + gt_file_name\n",
    "    with open(outpath, 'a+') as gt_f:\n",
    "        gt_f.write(ground_truth)"
   ]
  },
  {
   "cell_type": "code",
   "execution_count": 33,
   "metadata": {},
   "outputs": [],
   "source": [
    "with open(names_labels_file, 'r') as f:\n",
    "    lines = f.readlines()\n",
    "for line in lines:\n",
    "    image_name = line.split(\" \")[0]\n",
    "    ground_truth = line.split(\" \",1)[-1]\n",
    "    ground_truth = ground_truth.strip()\n",
    "    gt_file_name = image_name.split(\".\")[0] + '_names.txt'\n",
    "    outpath = names_labels_dir + gt_file_name\n",
    "    with open(outpath, 'a+') as gt_f:\n",
    "        gt_f.write(ground_truth)"
   ]
  },
  {
   "cell_type": "markdown",
   "metadata": {},
   "source": [
    "Rename images of every batch"
   ]
  },
  {
   "cell_type": "code",
   "execution_count": 34,
   "metadata": {},
   "outputs": [],
   "source": [
    "common_img_dir = '/home/arowa/work/porichoy/trdg-output-images/bangla_dataset_v1.1/augmented/bangla_common_words/'\n",
    "num_img_dir    = '/home/arowa/work/porichoy/trdg-output-images/bangla_dataset_v1.1/augmented/bangla_nums/'\n",
    "name_img_dir   = '/home/arowa/work/porichoy/trdg-output-images/bangla_dataset_v1.1/augmented/bangla_names/'\n",
    "rs_img_dir     = '/home/arowa/work/porichoy/trdg-output-images/bangla_dataset_v1.1/augmented/random_seq/'"
   ]
  },
  {
   "cell_type": "code",
   "execution_count": 35,
   "metadata": {},
   "outputs": [],
   "source": [
    "import os\n",
    "for filename in os.listdir(common_img_dir):\n",
    "    src = common_img_dir + '/' + filename\n",
    "    dst = common_img_dir + '/' + filename.split('.jpg')[0] + '_common_bn.jpg'\n",
    "\n",
    "    os.rename(src, dst)"
   ]
  },
  {
   "cell_type": "code",
   "execution_count": 36,
   "metadata": {},
   "outputs": [],
   "source": [
    "for filename in os.listdir(num_img_dir):\n",
    "    src = num_img_dir + '/' + filename\n",
    "    dst = num_img_dir + '/' + filename.split('.jpg')[0] + '_num.jpg'\n",
    "\n",
    "    os.rename(src, dst)"
   ]
  },
  {
   "cell_type": "code",
   "execution_count": 37,
   "metadata": {},
   "outputs": [],
   "source": [
    "for filename in os.listdir(name_img_dir):\n",
    "    src = name_img_dir + '/' + filename\n",
    "    dst = name_img_dir + '/' + filename.split('.jpg')[0] + '_names.jpg'\n",
    "\n",
    "    os.rename(src, dst)"
   ]
  },
  {
   "cell_type": "code",
   "execution_count": 38,
   "metadata": {},
   "outputs": [],
   "source": [
    "for filename in os.listdir(rs_img_dir):\n",
    "    src = rs_img_dir + '/' + filename\n",
    "    dst = rs_img_dir + '/' + filename.split('.jpg')[0] + '_rs.jpg'\n",
    "\n",
    "    os.rename(src, dst)"
   ]
  },
  {
   "cell_type": "code",
   "execution_count": 40,
   "metadata": {},
   "outputs": [],
   "source": [
    "img_dir   = '/home/arowa/work/porichoy/trdg-output-images/bangla_dataset_v1.1/augmented/images'\n",
    "label_dir = '/home/arowa/work/porichoy/trdg-output-images/bangla_dataset_v1.1/augmented/labels'\n",
    "for filename in os.listdir(img_dir):\n",
    "    src = img_dir + '/' + filename\n",
    "    dst = img_dir + '/' + 'aug_' + filename\n",
    "\n",
    "    os.rename(src, dst)\n",
    "\n",
    "for filename in os.listdir(label_dir):\n",
    "    src = label_dir + '/' + filename\n",
    "    dst = label_dir + '/' + 'aug_' + filename\n",
    "\n",
    "    os.rename(src, dst)"
   ]
  }
 ],
 "metadata": {
  "interpreter": {
   "hash": "c3ab41852ad4d8d3c6ff785e89009475f59672345fdefb247c70ffd9443fcb3e"
  },
  "kernelspec": {
   "display_name": "Python 3.8.8 64-bit ('base': conda)",
   "language": "python",
   "name": "python3"
  },
  "language_info": {
   "codemirror_mode": {
    "name": "ipython",
    "version": 3
   },
   "file_extension": ".py",
   "mimetype": "text/x-python",
   "name": "python",
   "nbconvert_exporter": "python",
   "pygments_lexer": "ipython3",
   "version": "3.8.8"
  },
  "orig_nbformat": 4
 },
 "nbformat": 4,
 "nbformat_minor": 2
}
