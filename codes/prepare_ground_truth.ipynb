{
 "cells": [
  {
   "cell_type": "code",
   "execution_count": 2,
   "metadata": {},
   "outputs": [],
   "source": [
    "common_labels_file = '/home/arowa/work/porichoy/trdg-output-images/bangla_dataset_v1/bangla_common_words/labels.txt'\n",
    "num_labels_file = '/home/arowa/work/porichoy/trdg-output-images/bangla_dataset_v1/bangla_nums/labels.txt'\n",
    "rs_labels_file = '/home/arowa/work/porichoy/trdg-output-images/bangla_dataset_v1/random_seq/labels.txt'\n",
    "names_labels_file = '/home/arowa/work/porichoy/trdg-output-images/bangla_dataset_v1/bangla_names/labels.txt'"
   ]
  },
  {
   "cell_type": "code",
   "execution_count": 6,
   "metadata": {},
   "outputs": [],
   "source": [
    "with open(common_labels_file, 'r') as f:\n",
    "    lines = f.readlines()\n",
    "for line in lines:\n",
    "    image_name = line.split(\" \")[0]\n",
    "    ground_truth = line.split(\" \")[-1]\n",
    "    gt_file_name = image_name.split(\".\")[0] + '_common_bn.txt'\n",
    "    outpath = '/home/arowa/work/porichoy/trdg-output-images/bangla_dataset_v1/bangla_common_words_gt/' + gt_file_name\n",
    "    with open(outpath, 'a+') as gt_f:\n",
    "        gt_f.write(ground_truth)"
   ]
  },
  {
   "cell_type": "code",
   "execution_count": 10,
   "metadata": {},
   "outputs": [],
   "source": [
    "common_labels_dir = '/home/arowa/work/porichoy/trdg-output-images/bangla_dataset_v1/bangla_common_words/'\n",
    "num_labels_dir = '/home/arowa/work/porichoy/trdg-output-images/bangla_dataset_v1/bangla_nums/'\n",
    "rs_labels_dir = '/home/arowa/work/porichoy/trdg-output-images/bangla_dataset_v1/random_seq/'\n",
    "names_labels_dir = '/home/arowa/work/porichoy/trdg-output-images/bangla_dataset_v1/bangla_names/'"
   ]
  },
  {
   "cell_type": "code",
   "execution_count": 14,
   "metadata": {},
   "outputs": [],
   "source": [
    "import os\n",
    "for filename in os.listdir(rs_labels_dir):\n",
    "    src = rs_labels_dir + '/' + filename\n",
    "    dst = rs_labels_dir + '/' + filename.split('.')[0] + '_rs.jpg'\n",
    "    os.rename(src, dst)"
   ]
  }
 ],
 "metadata": {
  "interpreter": {
   "hash": "c3ab41852ad4d8d3c6ff785e89009475f59672345fdefb247c70ffd9443fcb3e"
  },
  "kernelspec": {
   "display_name": "Python 3.8.8 64-bit ('base': conda)",
   "language": "python",
   "name": "python3"
  },
  "language_info": {
   "codemirror_mode": {
    "name": "ipython",
    "version": 3
   },
   "file_extension": ".py",
   "mimetype": "text/x-python",
   "name": "python",
   "nbconvert_exporter": "python",
   "pygments_lexer": "ipython3",
   "version": "3.8.8"
  },
  "orig_nbformat": 4
 },
 "nbformat": 4,
 "nbformat_minor": 2
}
